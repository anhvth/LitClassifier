{
 "cells": [
  {
   "cell_type": "code",
   "execution_count": 1,
   "id": "25d2c017-7c7a-48b0-ac7f-8c19c7074e0f",
   "metadata": {},
   "outputs": [],
   "source": [
    "#default_exp lit_model"
   ]
  },
  {
   "cell_type": "markdown",
   "id": "d34991d1-2a84-4202-a436-f840e06e2166",
   "metadata": {},
   "source": [
    "# LitModel\n",
    "> Lit model API"
   ]
  },
  {
   "cell_type": "code",
   "execution_count": 1,
   "id": "b69641cf-7889-43c6-89e7-1cde9d864950",
   "metadata": {},
   "outputs": [],
   "source": [
    "%load_ext autoreload\n",
    "%autoreload 2"
   ]
  },
  {
   "cell_type": "markdown",
   "id": "6d37a026-d840-4e4e-a449-ee5e38698326",
   "metadata": {},
   "source": [
    "## Lit Model"
   ]
  },
  {
   "cell_type": "code",
   "execution_count": 47,
   "id": "525de612-6478-4a7a-b7e0-59c949076681",
   "metadata": {},
   "outputs": [],
   "source": [
    "#export\n",
    "from loguru import logger\n",
    "from pytorch_lightning.core.lightning import LightningModule\n",
    "import torch\n",
    "from datetime import datetime, timedelta\n",
    "from pytorch_lightning.callbacks.progress import TQDMProgressBar\n",
    "from pytorch_lightning.loggers import TensorBoardLogger\n",
    "import os\n",
    "from pytorch_lightning import Trainer\n",
    "from pytorch_lightning.callbacks import LearningRateMonitor, ModelCheckpoint\n",
    "from lit_classifier.loss import FocalLoss, BinaryFocalLoss\n",
    "import os.path as osp"
   ]
  },
  {
   "cell_type": "code",
   "execution_count": 55,
   "id": "3d41a5af-319e-43de-ab38-f225f65d596f",
   "metadata": {},
   "outputs": [],
   "source": [
    "# isinstance(torch.optim.Adam(model.parameters()), torch.optim.Optimizer)"
   ]
  },
  {
   "cell_type": "code",
   "execution_count": 59,
   "id": "cf2cdb5f-da74-4702-a4ee-802c67d8bd95",
   "metadata": {},
   "outputs": [],
   "source": [
    "def get_optim_cfg(epochs, steps_per_ep, lr=2e-3, init_lr=0.5, min_lr=0.2, interval='step', optim='Adam'):\n",
    "    steps = epochs*steps_per_ep\n",
    "    return dict(lr=lr, init_lr=init_lr, min_lr=min_lr, steps=steps, epochs=epochs, interval=interval, optim=optim)\n",
    "\n",
    "\n",
    "\n",
    "class LitModel(LightningModule):\n",
    "    def __init__(self, model, optim_cfg, num_classes=None, loss=FocalLoss()):\n",
    "        super().__init__()\n",
    "        self.model = model\n",
    "        self.loss_fn = loss\n",
    "        self.optim_cfg = optim_cfg\n",
    "\n",
    "\n",
    "    def get_linear_schedule_with_warmup(self, optimizer, num_warmup_steps, num_training_steps, init_lr, min_lr, num_epochs, interval):  \n",
    "        from torch.optim.lr_scheduler import LambdaLR\n",
    "        def lr_lambda(current_step: int):\n",
    "\n",
    "                \n",
    "            if current_step < num_warmup_steps:\n",
    "                x = (1-init_lr)*(current_step / num_warmup_steps)+init_lr\n",
    "                return x\n",
    "            if interval=='epoch':\n",
    "                steps_per_ep = num_training_steps / num_epochs\n",
    "                current_ep = current_step // steps_per_ep\n",
    "                current_step = steps_per_ep*current_ep\n",
    "            \n",
    "            total_step = (num_training_steps-num_warmup_steps)\n",
    "            current_step = current_step-num_warmup_steps\n",
    "            rt = min_lr+(1-min_lr)*1-current_step/total_step\n",
    "            return rt\n",
    "\n",
    "        return LambdaLR(optimizer, lr_lambda, -1)\n",
    "\n",
    "    def configure_optimizers(self):\n",
    "        if self.optim_cfg['optim'] == 'Adam':\n",
    "            optimizer = torch.optim.Adam(self.parameters(), lr=self.optim_cfg[\"lr\"])\n",
    "        elif self.optim_cfg == 'AdamW':\n",
    "            optimizer = torch.optim.AdamW(self.parameters(), lr=self.optim_cfg[\"lr\"], \n",
    "                                          betas=(0.9, 0.999), eps=1e-08, weight_decay=0.01, amsgrad=False)\n",
    "        else:\n",
    "            assert isinstance(self.optim_cfg['optim'], torch.optim.Optimizer) \n",
    "            optimizer = self.optim_cfg['optim']\n",
    "\n",
    "        scheduler = {\n",
    "            \"scheduler\": self.get_linear_schedule_with_warmup(\n",
    "                optimizer,\n",
    "                self.optim_cfg[\"steps\"] * 0.15,\n",
    "                self.optim_cfg[\"steps\"],\n",
    "                self.optim_cfg[\"init_lr\"],\n",
    "                self.optim_cfg[\"min_lr\"],\n",
    "                self.optim_cfg[\"epochs\"],\n",
    "                self.optim_cfg['interval']\n",
    "            ),\n",
    "            \"interval\": 'step',  # or 'epoch'\n",
    "            \"frequency\": 1,\n",
    "        }\n",
    "\n",
    "        return [optimizer], [scheduler]\n",
    "\n",
    "    def forward(self, x):\n",
    "        return self.model(x)\n",
    "\n",
    "    def predict_step(self, batch, batch_idx):\n",
    "        x = batch\n",
    "        logits = self(x)\n",
    "        scores = logits.sigmoid()\n",
    "        # return dict(scores=scores)\n",
    "        return scores\n",
    "\n",
    "    def validation_step(self, batch, batch_idx):\n",
    "        x, y = batch[:2]\n",
    "        logits = self(x)\n",
    "        loss = self.loss_fn(logits, y)\n",
    "\n",
    "        preds = logits.sigmoid().argmax(1)\n",
    "        accs = (y == preds).float().mean()\n",
    "\n",
    "\n",
    "        self.log(\"val_loss\", loss, rank_zero_only=True,\n",
    "                    on_step=False, on_epoch=True)\n",
    "        self.log(\"val_acc\", accs, rank_zero_only=True,\n",
    "                    on_step=False, on_epoch=True)\n",
    "\n",
    "        return loss\n",
    "\n",
    "    def training_step(self, batch, batch_idx):\n",
    "        x, y = batch[:2]\n",
    "        logits = self(x)\n",
    "        loss = self.loss_fn(logits, y)\n",
    "\n",
    "        preds = logits.sigmoid().argmax(1)\n",
    "        accs = (y == preds).float().mean()\n",
    "        \n",
    "        self.log(\"training_loss\", loss, prog_bar=True, rank_zero_only=True)\n",
    "        self.log(\"training_accuracy\", accs, prog_bar=True, rank_zero_only=True)\n",
    "        return loss\n",
    "\n",
    "\n",
    "class BinLitModel(LitModel):\n",
    "    def validation_step(self, batch, batch_idx):\n",
    "        x, y = batch[:2]\n",
    "        logits = self(x).reshape(-1)\n",
    "        y = y.reshape(logits.shape)\n",
    "        loss = self.loss_fn(logits, y)\n",
    "\n",
    "        preds = logits.sigmoid() > 0.5\n",
    "        accs = (y == preds).float().mean()\n",
    "\n",
    "\n",
    "        self.log(\"val_loss\", loss, rank_zero_only=True,\n",
    "                    on_step=False, on_epoch=True)\n",
    "        self.log(\"val_acc\", accs, rank_zero_only=True,\n",
    "                    on_step=False, on_epoch=True)\n",
    "\n",
    "        return loss\n",
    "\n",
    "    def training_step(self, batch, batch_idx):\n",
    "        x, y = batch[:2]\n",
    "        logits = self(x).reshape(-1)\n",
    "        y = y.reshape(logits.shape)\n",
    "        loss = self.loss_fn(logits, y)\n",
    "\n",
    "        preds = logits.sigmoid() > 0.5\n",
    "        accs = (y == preds).float().mean()\n",
    "        \n",
    "        self.log(\"training_loss\", loss, prog_bar=True, rank_zero_only=True)\n",
    "        self.log(\"training_accuracy\", accs, prog_bar=True, rank_zero_only=True)\n",
    "        return loss\n"
   ]
  },
  {
   "cell_type": "code",
   "execution_count": 60,
   "id": "6c685b6e-4adc-47e2-9f0a-fd86e5bb5986",
   "metadata": {},
   "outputs": [
    {
     "name": "stderr",
     "output_type": "stream",
     "text": [
      "/home/anhvth8/.conda/envs/dms/lib/python3.8/site-packages/torch/optim/lr_scheduler.py:249: UserWarning: To get the last learning rate computed by the scheduler, please use `get_last_lr()`.\n",
      "  warnings.warn(\"To get the last learning rate computed by the scheduler, \"\n",
      "/home/anhvth8/.conda/envs/dms/lib/python3.8/site-packages/torch/optim/lr_scheduler.py:131: UserWarning: Detected call of `lr_scheduler.step()` before `optimizer.step()`. In PyTorch 1.1.0 and later, you should call them in the opposite order: `optimizer.step()` before `lr_scheduler.step()`.  Failure to do this will result in PyTorch skipping the first value of the learning rate schedule. See more details at https://pytorch.org/docs/stable/optim.html#how-to-adjust-learning-rate\n",
      "  warnings.warn(\"Detected call of `lr_scheduler.step()` before `optimizer.step()`. \"\n"
     ]
    },
    {
     "data": {
      "text/plain": [
       "[<matplotlib.lines.Line2D at 0x7f0218413c10>]"
      ]
     },
     "execution_count": 60,
     "metadata": {},
     "output_type": "execute_result"
    },
    {
     "data": {
      "image/png": "[encoded data removed]",
      "text/plain": [
       "<Figure size 432x288 with 1 Axes>"
      ]
     },
     "metadata": {
      "needs_background": "light"
     },
     "output_type": "display_data"
    }
   ],
   "source": [
    "#hide\n",
    "import timm, matplotlib.pyplot as plt\n",
    "\n",
    "\n",
    "optim_cfg = get_optim_cfg(10, 1000, interval='step')\n",
    "model = timm.create_model('resnet18')\n",
    "model = LitModel(model, optim_cfg)\n",
    "[optim], [sche] = model.configure_optimizers()\n",
    "sche = sche['scheduler']\n",
    "lrs = []\n",
    "for i in range(10000):\n",
    "    lrs.append(sche.get_lr())\n",
    "    sche.step()\n",
    "plt.plot(lrs)"
   ]
  },
  {
   "cell_type": "markdown",
   "id": "1b955898-c203-4380-9e7c-d5390ce37213",
   "metadata": {},
   "source": [
    "## Get trainer"
   ]
  },
  {
   "cell_type": "code",
   "execution_count": 4,
   "id": "31867c0d-0d51-4e22-b9e5-54c7a04e99a1",
   "metadata": {},
   "outputs": [],
   "source": [
    "#export\n",
    "def get_trainer(exp_name, gpus=1, max_epochs=40, distributed=False,\n",
    "        monitor=dict(metric=\"val_acc\", mode=\"max\"), save_every_n_epochs=1, save_top_k=5,\n",
    "    **trainer_kawrgs):\n",
    "\n",
    "\n",
    "    now = datetime.now() + timedelta(hours=7)\n",
    "    root_log_dir = osp.join(\n",
    "            \"lightning_logs\", exp_name, now.strftime(\n",
    "                \"%b%d_%H_%M_%S\")\n",
    "        )\n",
    "    filename=\"{epoch}-{\"+monitor[\"metric\"]+\":.2f}\"\n",
    "\n",
    "    callback_ckpt = ModelCheckpoint(\n",
    "        dirpath=osp.join(root_log_dir, \"ckpts\"),\n",
    "        monitor=monitor['metric'],mode=monitor['mode'],\n",
    "        filename=filename,\n",
    "        save_last=True,\n",
    "        every_n_epochs=save_every_n_epochs,\n",
    "        save_top_k=2,\n",
    "    )\n",
    "\n",
    "    callback_tqdm = TQDMProgressBar(refresh_rate=5)\n",
    "    callback_lrmornitor = LearningRateMonitor(logging_interval=\"step\")\n",
    "    plt_logger = TensorBoardLogger(\n",
    "        osp.join(root_log_dir, \"tb_logs\"), version=now.strftime(\"%b%d_%H_%M_%S\")\n",
    "    )\n",
    "\n",
    "    trainer = Trainer(\n",
    "        gpus=gpus,\n",
    "        max_epochs=max_epochs,\n",
    "        strategy= \"dp\" if not distributed else \"ddp\",\n",
    "        callbacks=[callback_ckpt, callback_tqdm, callback_lrmornitor],\n",
    "        logger=plt_logger,**trainer_kawrgs,\n",
    "    )\n",
    "    return trainer"
   ]
  },
  {
   "cell_type": "markdown",
   "id": "196ee2f3-7c66-4a6d-8ef3-d2900ffab513",
   "metadata": {},
   "source": [
    "# Mnist example "
   ]
  },
  {
   "cell_type": "code",
   "execution_count": 6,
   "id": "1e9f882e-fd65-4f24-8277-f87e13724232",
   "metadata": {},
   "outputs": [],
   "source": [
    "#hide\n",
    "import os\n",
    "\n",
    "import torch\n",
    "from pytorch_lightning import LightningModule, Trainer\n",
    "from torch import nn\n",
    "from torch.nn import functional as F\n",
    "from torch.utils.data import DataLoader, random_split\n",
    "from torchmetrics import Accuracy\n",
    "from torchvision import transforms\n",
    "from torchvision.datasets import MNIST\n",
    "\n",
    "BATCH_SIZE = 1024 #if AVAIL_GPUS else 64"
   ]
  },
  {
   "cell_type": "code",
   "execution_count": 9,
   "id": "74ff5c68-3ebf-49f3-8991-3e370051c9e6",
   "metadata": {},
   "outputs": [],
   "source": [
    "# Init DataLoader from MNIST Dataset\n",
    "train_ds = MNIST(root='./', train=True, download=True, transform=transforms.Compose(\n",
    "[    transforms.Lambda(lambda x: x.convert('RGB')),\n",
    "    transforms.ToTensor(),]\n",
    "))\n",
    "test_ds = MNIST(root='./', train=False, download=True, transform=transforms.Compose(\n",
    "[    \n",
    "    transforms.Lambda(lambda x: x.convert('RGB')),\n",
    "    transforms.ToTensor(),]\n",
    "))\n",
    "\n",
    "train_loader = DataLoader(train_ds, batch_size=BATCH_SIZE, num_workers=10)\n",
    "test_loader = DataLoader(test_ds, batch_size=BATCH_SIZE*2, num_workers=10)"
   ]
  },
  {
   "cell_type": "code",
   "execution_count": 5,
   "id": "a0ce68b9-5a6a-4f82-b366-11fb9681dc6e",
   "metadata": {},
   "outputs": [
    {
     "ename": "NameError",
     "evalue": "name 'LitModel' is not defined",
     "output_type": "error",
     "traceback": [
      "\u001b[0;31m---------------------------------------------------------------------------\u001b[0m",
      "\u001b[0;31mNameError\u001b[0m                                 Traceback (most recent call last)",
      "Input \u001b[0;32mIn [5]\u001b[0m, in \u001b[0;36m<cell line: 2>\u001b[0;34m()\u001b[0m\n\u001b[1;32m      1\u001b[0m \u001b[38;5;28;01mfrom\u001b[39;00m \u001b[38;5;21;01mlit_classifier\u001b[39;00m \u001b[38;5;28;01mimport\u001b[39;00m base_model\n\u001b[0;32m----> 2\u001b[0m lit_model \u001b[38;5;241m=\u001b[39m \u001b[43mLitModel\u001b[49m(base_model\u001b[38;5;241m.\u001b[39mmodel_factory(\u001b[38;5;124m'\u001b[39m\u001b[38;5;124mmobilenetv2_035\u001b[39m\u001b[38;5;124m'\u001b[39m, \u001b[38;5;241m10\u001b[39m, pretrained\u001b[38;5;241m=\u001b[39m\u001b[38;5;28;01mFalse\u001b[39;00m), loss\u001b[38;5;241m=\u001b[39mnn\u001b[38;5;241m.\u001b[39mCrossEntropyLoss())\n\u001b[1;32m      3\u001b[0m trainer \u001b[38;5;241m=\u001b[39m get_trainer(\u001b[38;5;124m'\u001b[39m\u001b[38;5;124mtest\u001b[39m\u001b[38;5;124m'\u001b[39m, gpus\u001b[38;5;241m=\u001b[39m\u001b[38;5;241m1\u001b[39m, distributed\u001b[38;5;241m=\u001b[39m\u001b[38;5;28;01mFalse\u001b[39;00m)\n\u001b[1;32m      4\u001b[0m trainer\u001b[38;5;241m.\u001b[39mfit(lit_model, train_loader, test_loader)\n",
      "\u001b[0;31mNameError\u001b[0m: name 'LitModel' is not defined"
     ]
    }
   ],
   "source": [
    "from lit_classifier import base_model\n",
    "lit_model = LitModel(base_model.model_factory('mobilenetv2_035', 10, pretrained=False), loss=nn.CrossEntropyLoss())\n",
    "trainer = get_trainer('test', gpus=1, distributed=False)\n",
    "trainer.fit(lit_model, train_loader, test_loader)"
   ]
  },
  {
   "cell_type": "code",
   "execution_count": 61,
   "id": "d583a021-d80a-4240-9fc7-6162db0aa0c6",
   "metadata": {},
   "outputs": [
    {
     "name": "stdout",
     "output_type": "stream",
     "text": [
      "Converted 00_base_model.ipynb.\n",
      "Converted 01_lit_model.ipynb.\n",
      "Converted 02_loss.ipynb.\n"
     ]
    }
   ],
   "source": [
    "!nbdev_build_lib"
   ]
  },
  {
   "cell_type": "code",
   "execution_count": null,
   "id": "ddb9f333-73ed-46f6-a76a-59bf44c7fb26",
   "metadata": {},
   "outputs": [],
   "source": []
  },
  {
   "cell_type": "code",
   "execution_count": null,
   "id": "d57c05ed-1d1e-4042-92d0-99430e2e6427",
   "metadata": {},
   "outputs": [],
   "source": []
  },
  {
   "cell_type": "code",
   "execution_count": null,
   "id": "09f9ea89-6490-40fd-a20b-68183f3abe3f",
   "metadata": {},
   "outputs": [],
   "source": []
  },
  {
   "cell_type": "code",
   "execution_count": null,
   "id": "2930afa5-2a46-4dac-89b2-19509dd01266",
   "metadata": {},
   "outputs": [],
   "source": []
  }
 ],
 "metadata": {
  "kernelspec": {
   "display_name": "Python 3 (ipykernel)",
   "language": "python",
   "name": "python3"
  },
  "language_info": {
   "codemirror_mode": {
    "name": "ipython",
    "version": 3
   },
   "file_extension": ".py",
   "mimetype": "text/x-python",
   "name": "python",
   "nbconvert_exporter": "python",
   "pygments_lexer": "ipython3",
   "version": "3.8.11"
  }
 },
 "nbformat": 4,
 "nbformat_minor": 5
}
