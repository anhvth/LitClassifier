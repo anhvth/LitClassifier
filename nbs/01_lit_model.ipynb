{
 "cells": [
  {
   "cell_type": "code",
   "execution_count": 1,
   "id": "25d2c017-7c7a-48b0-ac7f-8c19c7074e0f",
   "metadata": {},
   "outputs": [],
   "source": [
    "#default_exp lit_model"
   ]
  },
  {
   "cell_type": "markdown",
   "id": "d34991d1-2a84-4202-a436-f840e06e2166",
   "metadata": {},
   "source": [
    "# LitModel\n",
    "> Lit model API"
   ]
  },
  {
   "cell_type": "code",
   "execution_count": 2,
   "id": "b69641cf-7889-43c6-89e7-1cde9d864950",
   "metadata": {},
   "outputs": [],
   "source": [
    "%load_ext autoreload\n",
    "%autoreload 2"
   ]
  },
  {
   "cell_type": "markdown",
   "id": "6d37a026-d840-4e4e-a449-ee5e38698326",
   "metadata": {},
   "source": [
    "## Lit Model"
   ]
  },
  {
   "cell_type": "code",
   "execution_count": 3,
   "id": "525de612-6478-4a7a-b7e0-59c949076681",
   "metadata": {},
   "outputs": [],
   "source": [
    "import timm\n",
    "\n",
    "\n",
    "\n",
    "#export\n",
    "from pytorch_lightning.core.lightning import LightningModule\n",
    "import torch\n",
    "from datetime import datetime, timedelta\n",
    "from pytorch_lightning.callbacks.progress import TQDMProgressBar\n",
    "from pytorch_lightning.loggers import TensorBoardLogger\n",
    "import os\n",
    "from pytorch_lightning import Trainer\n",
    "from pytorch_lightning.callbacks import LearningRateMonitor, ModelCheckpoint\n",
    "from lit_classifier.loss import FocalLoss\n",
    "import os.path as osp"
   ]
  },
  {
   "cell_type": "code",
   "execution_count": 4,
   "id": "cf2cdb5f-da74-4702-a4ee-802c67d8bd95",
   "metadata": {},
   "outputs": [],
   "source": [
    "#export\n",
    "DEFAULT_HPARAMS = {\n",
    "    \"num_workers\": 12,\n",
    "    \"image_size\": 64,\n",
    "    \"lr\": 2e-3,\n",
    "    \"dropout\": 0.2,\n",
    "    \"max_epochs\": 100,\n",
    "    \"init_lr\": 8e-5,\n",
    "    \"num_training_steps\": 2000,\n",
    "}\n",
    "\n",
    "class LitModel(LightningModule):\n",
    "    def __init__(self, model, num_classes=None,hparams=DEFAULT_HPARAMS, loss=FocalLoss()):\n",
    "        super().__init__()\n",
    "        self.model = model\n",
    "        self.loss_fn = loss\n",
    "        self._hparams = hparams\n",
    "\n",
    "\n",
    "    def get_linear_schedule_with_warmup(self,\n",
    "        optimizer, num_warmup_steps, num_training_steps, init_lr=5e-4, \n",
    "                                        last_epoch=-1\n",
    "    ):  \n",
    "        from torch.optim.lr_scheduler import LambdaLR\n",
    "        def lr_lambda(current_step: int):\n",
    "            if current_step < num_warmup_steps:\n",
    "                return float(current_step) / float(max(1, num_warmup_steps)) + init_lr\n",
    "            return max(\n",
    "                0.0,\n",
    "                float(num_training_steps - current_step)\n",
    "                / float(max(1, num_training_steps - num_warmup_steps)),\n",
    "            )\n",
    "\n",
    "        return LambdaLR(optimizer, lr_lambda, last_epoch)\n",
    "    \n",
    "    def configure_optimizers(self):\n",
    "        optimizer = torch.optim.Adam(self.parameters(), lr=self._hparams[\"lr\"])\n",
    "\n",
    "        scheduler = {\n",
    "            \"scheduler\": self.get_linear_schedule_with_warmup(\n",
    "                optimizer,\n",
    "                self._hparams[\"num_training_steps\"] * 0.15,\n",
    "                self._hparams[\"num_training_steps\"],\n",
    "                self._hparams[\"init_lr\"],\n",
    "            ),\n",
    "            \"interval\": \"step\",  # or 'epoch'\n",
    "            \"frequency\": 1,\n",
    "        }\n",
    "\n",
    "        return [optimizer], [scheduler]\n",
    "\n",
    "    def forward(self, x):\n",
    "        return self.model(x)\n",
    "\n",
    "    def predict_step(self, batch, batch_idx):\n",
    "        x = batch\n",
    "        logits = self(x)\n",
    "        scores = logits.sigmoid()\n",
    "        # return dict(scores=scores)\n",
    "        return scores\n",
    "\n",
    "    def validation_step(self, batch, batch_idx):\n",
    "        x, y = batch[:2]\n",
    "        logits = self(x)\n",
    "        loss = self.loss_fn(logits, y)\n",
    "\n",
    "        preds = logits.sigmoid().argmax(1)\n",
    "        accs = (y == preds).float().mean()\n",
    "\n",
    "\n",
    "        self.log(\"val_loss\", loss, rank_zero_only=True,\n",
    "                    on_step=False, on_epoch=True)\n",
    "        self.log(\"val_acc\", accs, rank_zero_only=True,\n",
    "                    on_step=False, on_epoch=True)\n",
    "\n",
    "        return loss\n",
    "\n",
    "    def training_step(self, batch, batch_idx):\n",
    "        x, y = batch[:2]\n",
    "        logits = self(x)\n",
    "        loss = self.loss_fn(logits, y)\n",
    "\n",
    "        preds = logits.sigmoid().argmax(1)\n",
    "        accs = (y == preds).float().mean()\n",
    "        \n",
    "        self.log(\"training_loss\", loss, prog_bar=True, rank_zero_only=True)\n",
    "        self.log(\"training_accuracy\", accs, prog_bar=True, rank_zero_only=True)\n",
    "        return loss"
   ]
  },
  {
   "cell_type": "markdown",
   "id": "1b955898-c203-4380-9e7c-d5390ce37213",
   "metadata": {},
   "source": [
    "## Get trainer"
   ]
  },
  {
   "cell_type": "code",
   "execution_count": 3,
   "id": "31867c0d-0d51-4e22-b9e5-54c7a04e99a1",
   "metadata": {},
   "outputs": [],
   "source": [
    "#export\n",
    "def get_trainer(exp_name, gpus=1, max_epochs=40, distributed=False,\n",
    "        monitor=dict(metric=\"val_acc\", mode=\"max\"), save_every_n_epochs=1, save_top_k=5,\n",
    "    ):\n",
    "\n",
    "\n",
    "    now = datetime.now() + timedelta(hours=7)\n",
    "    root_log_dir = osp.join(\n",
    "            \"lightning_logs\", exp_name, now.strftime(\n",
    "                \"%b%d_%H_%M_%S\")\n",
    "        )\n",
    "    filename=\"{epoch}-{\"+monitor[\"metric\"]+\":.2f}\"\n",
    "\n",
    "    callback_ckpt = ModelCheckpoint(\n",
    "        dirpath=osp.join(root_log_dir, \"ckpts\"),\n",
    "        monitor=monitor['metric'],mode=monitor['mode'],\n",
    "        filename=filename,\n",
    "        save_last=True,\n",
    "        every_n_epochs=save_every_n_epochs,\n",
    "        save_top_k=2,\n",
    "    )\n",
    "\n",
    "    callback_tqdm = TQDMProgressBar(refresh_rate=5)\n",
    "    callback_lrmornitor = LearningRateMonitor(logging_interval=\"step\")\n",
    "    plt_logger = TensorBoardLogger(\n",
    "        osp.join(root_log_dir, \"tb_logs\"), version=now.strftime(\"%b%d_%H_%M_%S\")\n",
    "    )\n",
    "\n",
    "    trainer = Trainer(\n",
    "        gpus=gpus,\n",
    "        max_epochs=max_epochs,\n",
    "        strategy= \"dp\" if not distributed else \"ddp\",\n",
    "        callbacks=[callback_ckpt, callback_tqdm, callback_lrmornitor],\n",
    "        logger=plt_logger,\n",
    "    )\n",
    "    return trainer"
   ]
  },
  {
   "cell_type": "markdown",
   "id": "196ee2f3-7c66-4a6d-8ef3-d2900ffab513",
   "metadata": {},
   "source": [
    "# Mnist example "
   ]
  },
  {
   "cell_type": "code",
   "execution_count": 6,
   "id": "1e9f882e-fd65-4f24-8277-f87e13724232",
   "metadata": {},
   "outputs": [],
   "source": [
    "#hide\n",
    "import os\n",
    "\n",
    "import torch\n",
    "from pytorch_lightning import LightningModule, Trainer\n",
    "from torch import nn\n",
    "from torch.nn import functional as F\n",
    "from torch.utils.data import DataLoader, random_split\n",
    "from torchmetrics import Accuracy\n",
    "from torchvision import transforms\n",
    "from torchvision.datasets import MNIST\n",
    "\n",
    "BATCH_SIZE = 1024 #if AVAIL_GPUS else 64"
   ]
  },
  {
   "cell_type": "code",
   "execution_count": 9,
   "id": "74ff5c68-3ebf-49f3-8991-3e370051c9e6",
   "metadata": {},
   "outputs": [],
   "source": [
    "# Init DataLoader from MNIST Dataset\n",
    "train_ds = MNIST(root='./', train=True, download=True, transform=transforms.Compose(\n",
    "[    transforms.Lambda(lambda x: x.convert('RGB')),\n",
    "    transforms.ToTensor(),]\n",
    "))\n",
    "test_ds = MNIST(root='./', train=False, download=True, transform=transforms.Compose(\n",
    "[    \n",
    "    transforms.Lambda(lambda x: x.convert('RGB')),\n",
    "    transforms.ToTensor(),]\n",
    "))\n",
    "\n",
    "train_loader = DataLoader(train_ds, batch_size=BATCH_SIZE, num_workers=10)\n",
    "test_loader = DataLoader(test_ds, batch_size=BATCH_SIZE*2, num_workers=10)"
   ]
  },
  {
   "cell_type": "code",
   "execution_count": 5,
   "id": "a0ce68b9-5a6a-4f82-b366-11fb9681dc6e",
   "metadata": {},
   "outputs": [
    {
     "ename": "NameError",
     "evalue": "name 'LitModel' is not defined",
     "output_type": "error",
     "traceback": [
      "\u001b[0;31m---------------------------------------------------------------------------\u001b[0m",
      "\u001b[0;31mNameError\u001b[0m                                 Traceback (most recent call last)",
      "Input \u001b[0;32mIn [5]\u001b[0m, in \u001b[0;36m<cell line: 2>\u001b[0;34m()\u001b[0m\n\u001b[1;32m      1\u001b[0m \u001b[38;5;28;01mfrom\u001b[39;00m \u001b[38;5;21;01mlit_classifier\u001b[39;00m \u001b[38;5;28;01mimport\u001b[39;00m base_model\n\u001b[0;32m----> 2\u001b[0m lit_model \u001b[38;5;241m=\u001b[39m \u001b[43mLitModel\u001b[49m(base_model\u001b[38;5;241m.\u001b[39mmodel_factory(\u001b[38;5;124m'\u001b[39m\u001b[38;5;124mmobilenetv2_035\u001b[39m\u001b[38;5;124m'\u001b[39m, \u001b[38;5;241m10\u001b[39m, pretrained\u001b[38;5;241m=\u001b[39m\u001b[38;5;28;01mFalse\u001b[39;00m), loss\u001b[38;5;241m=\u001b[39mnn\u001b[38;5;241m.\u001b[39mCrossEntropyLoss())\n\u001b[1;32m      3\u001b[0m trainer \u001b[38;5;241m=\u001b[39m get_trainer(\u001b[38;5;124m'\u001b[39m\u001b[38;5;124mtest\u001b[39m\u001b[38;5;124m'\u001b[39m, gpus\u001b[38;5;241m=\u001b[39m\u001b[38;5;241m1\u001b[39m, distributed\u001b[38;5;241m=\u001b[39m\u001b[38;5;28;01mFalse\u001b[39;00m)\n\u001b[1;32m      4\u001b[0m trainer\u001b[38;5;241m.\u001b[39mfit(lit_model, train_loader, test_loader)\n",
      "\u001b[0;31mNameError\u001b[0m: name 'LitModel' is not defined"
     ]
    }
   ],
   "source": [
    "from lit_classifier import base_model\n",
    "lit_model = LitModel(base_model.model_factory('mobilenetv2_035', 10, pretrained=False), loss=nn.CrossEntropyLoss())\n",
    "trainer = get_trainer('test', gpus=1, distributed=False)\n",
    "trainer.fit(lit_model, train_loader, test_loader)"
   ]
  },
  {
   "cell_type": "code",
   "execution_count": 2,
   "id": "d583a021-d80a-4240-9fc7-6162db0aa0c6",
   "metadata": {},
   "outputs": [
    {
     "name": "stdout",
     "output_type": "stream",
     "text": [
      "Converted 00_base_model.ipynb.\n",
      "Converted 01_lit_model.ipynb.\n",
      "Converted 02_loss.ipynb.\n"
     ]
    }
   ],
   "source": [
    "!nbdev_build_lib"
   ]
  },
  {
   "cell_type": "code",
   "execution_count": null,
   "id": "ddb9f333-73ed-46f6-a76a-59bf44c7fb26",
   "metadata": {},
   "outputs": [],
   "source": []
  },
  {
   "cell_type": "code",
   "execution_count": null,
   "id": "d57c05ed-1d1e-4042-92d0-99430e2e6427",
   "metadata": {},
   "outputs": [],
   "source": []
  },
  {
   "cell_type": "code",
   "execution_count": null,
   "id": "09f9ea89-6490-40fd-a20b-68183f3abe3f",
   "metadata": {},
   "outputs": [],
   "source": []
  },
  {
   "cell_type": "code",
   "execution_count": null,
   "id": "2930afa5-2a46-4dac-89b2-19509dd01266",
   "metadata": {},
   "outputs": [],
   "source": []
  }
 ],
 "metadata": {
  "kernelspec": {
   "display_name": "Python 3 (ipykernel)",
   "language": "python",
   "name": "python3"
  },
  "language_info": {
   "codemirror_mode": {
    "name": "ipython",
    "version": 3
   },
   "file_extension": ".py",
   "mimetype": "text/x-python",
   "name": "python",
   "nbconvert_exporter": "python",
   "pygments_lexer": "ipython3",
   "version": "3.8.11"
  }
 },
 "nbformat": 4,
 "nbformat_minor": 5
}
